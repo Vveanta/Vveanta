{
  "nbformat": 4,
  "nbformat_minor": 0,
  "metadata": {
    "colab": {
      "name": "Google News Sentimental Analyses for News Related to Narendra Modi",
      "provenance": [],
      "collapsed_sections": [],
      "authorship_tag": "ABX9TyOzZsPma8LcNUQgYN6twteX",
      "include_colab_link": true
    },
    "kernelspec": {
      "name": "python3",
      "display_name": "Python 3"
    },
    "language_info": {
      "name": "python"
    }
  },
  "cells": [
    {
      "cell_type": "markdown",
      "metadata": {
        "id": "view-in-github",
        "colab_type": "text"
      },
      "source": [
        "<a href=\"https://colab.research.google.com/github/Vveanta/Vveanta/blob/main/Google_News_Sentimental_Analyses_for_News_Related_to_Narendra_Modi.ipynb\" target=\"_parent\"><img src=\"https://colab.research.google.com/assets/colab-badge.svg\" alt=\"Open In Colab\"/></a>"
      ]
    },
    {
      "cell_type": "code",
      "execution_count": 9,
      "metadata": {
        "colab": {
          "base_uri": "https://localhost:8080/"
        },
        "id": "B-b-WSzn__Ke",
        "outputId": "a1175464-a0bf-4fc8-f32b-0b925b625401"
      },
      "outputs": [
        {
          "output_type": "stream",
          "name": "stdout",
          "text": [
            "pages finished\n"
          ]
        }
      ],
      "source": [
        "from bs4 import BeautifulSoup\n",
        "import urllib.request,urllib.parse,urllib.error\n",
        "import requests\n",
        "import time\n",
        "import os\n",
        "\n",
        "# step 1 lets scrape the guided project website with all the posts:\n",
        "try:\n",
        "    os.remove(\"/content/data.csv\")\n",
        "except:\n",
        "    pass\n",
        "\n",
        "root= 'https://www.google.com'\n",
        "link=\"https://www.google.com/search?q=Narendra+Modi&tbm=nws&sxsrf=ALiCzsb8_GqnC8dnjUOBQ-0O1eHOVyRYbQ:1659451072593&source=lnt&tbs=qdr:w&sa=X&ved=2ahUKEwiHutD9sKj5AhUU62EKHZN_DLEQpwV6BAgBEBc&biw=759&bih=636&dpr=1\"\n",
        "with open('data.csv',\"a\") as f:\n",
        "  f.write('Title,Time,Description,Source\\n')\n",
        "def newsParser(link):\n",
        "    req=urllib.request.Request(link,headers={'User-Agent':'Chrome/51.0.2704.103'})\n",
        "    html=urllib.request.urlopen(req).read()\n",
        "    with requests.Session() as c:\n",
        "        soup = BeautifulSoup(html, 'html5lib')\n",
        "    \n",
        "    # print(soup)\n",
        "    for item in soup.find_all('div',attrs={'class':'Gx5Zad fP1Qef xpd EtOod pkphOe'}):\n",
        "        rawlink= (item.find('a',href=True)['href'])\n",
        "        link=rawlink.split(\"/url?q=\")[1]\n",
        "        link=link.split('&sa=U&')[0]\n",
        "        title=item.find('div',attrs={'class':'BNeawe vvjwJb AP7Wnd'}).contents[0]\n",
        "        title=title.replace(\",\",\"\")\n",
        "        des=item.find('div',attrs={'class':'BNeawe s3v9rd AP7Wnd'}).get_text().split(\".\")\n",
        "        # print(des)\n",
        "        desc=des[0]\n",
        "        desc=desc.replace(\",\",\"\")\n",
        "        t=des[-1]\n",
        "        # print(item)\n",
        "        # print(title)\n",
        "        # print(desc)\n",
        "        # print(time)\n",
        "        # print(link)\n",
        "        \n",
        "        with open('data.csv',\"a\") as f:\n",
        "            f.write(\"{},{},{},{}\\n\".format(title,t,desc,link))\n",
        "\n",
        "    next=soup.find('a',attrs={'aria-label':'Next page'})\n",
        "    next=next['href']\n",
        "    link=root+next\n",
        "    newsParser(link)\n",
        "try:\n",
        "    newsParser(link)  \n",
        "except TypeError:\n",
        "    print(\"pages finished\")  \n",
        " \n",
        "        "
      ]
    },
    {
      "cell_type": "code",
      "source": [
        "# print(soup)"
      ],
      "metadata": {
        "id": "GMcpEiRjAI3U"
      },
      "execution_count": 10,
      "outputs": []
    },
    {
      "cell_type": "code",
      "source": [
        "pip install vaderSentiment"
      ],
      "metadata": {
        "colab": {
          "base_uri": "https://localhost:8080/"
        },
        "id": "YvgpbtTCALnV",
        "outputId": "c88c4bba-ecfa-4247-90eb-fefc7689a95f"
      },
      "execution_count": 11,
      "outputs": [
        {
          "output_type": "stream",
          "name": "stdout",
          "text": [
            "Looking in indexes: https://pypi.org/simple, https://us-python.pkg.dev/colab-wheels/public/simple/\n",
            "Requirement already satisfied: vaderSentiment in /usr/local/lib/python3.7/dist-packages (3.3.2)\n",
            "Requirement already satisfied: requests in /usr/local/lib/python3.7/dist-packages (from vaderSentiment) (2.23.0)\n",
            "Requirement already satisfied: urllib3!=1.25.0,!=1.25.1,<1.26,>=1.21.1 in /usr/local/lib/python3.7/dist-packages (from requests->vaderSentiment) (1.24.3)\n",
            "Requirement already satisfied: idna<3,>=2.5 in /usr/local/lib/python3.7/dist-packages (from requests->vaderSentiment) (2.10)\n",
            "Requirement already satisfied: chardet<4,>=3.0.2 in /usr/local/lib/python3.7/dist-packages (from requests->vaderSentiment) (3.0.4)\n",
            "Requirement already satisfied: certifi>=2017.4.17 in /usr/local/lib/python3.7/dist-packages (from requests->vaderSentiment) (2022.6.15)\n"
          ]
        }
      ]
    },
    {
      "cell_type": "code",
      "source": [
        "import pandas as pd\n",
        "from vaderSentiment.vaderSentiment import SentimentIntensityAnalyzer as Sia"
      ],
      "metadata": {
        "id": "DpWjLlFOAOzq"
      },
      "execution_count": 12,
      "outputs": []
    },
    {
      "cell_type": "code",
      "source": [
        "df=pd.read_csv('/content/data.csv')\n",
        "# print(df.head())\n",
        "analyzer=Sia()\n",
        "negative=[]\n",
        "neutral=[]\n",
        "positive=[]\n",
        "aggregate_compound=[]\n",
        "df=df.dropna()\n",
        "for i in range(df.shape[0]):    \n",
        "    # print(i)\n",
        "    title=df.iloc[i,0]\n",
        "    description=df.iloc[i,2]\n",
        "    # print(title)\n",
        "    # print(description)\n",
        "    title_analyzed=analyzer.polarity_scores(title)\n",
        "    desc_analyzed=analyzer.polarity_scores(description)\n",
        "    # print('title: ',title_analyzed)\n",
        "    # print('description: ',desc_analyzed)\n",
        "    negative.append((title_analyzed['neg']+desc_analyzed['neg'])/2)\n",
        "    positive.append((title_analyzed['pos']+desc_analyzed['pos'])/2)\n",
        "    neutral.append((title_analyzed['neu']+desc_analyzed['neu'])/2)\n",
        "    aggregate_compound.append((title_analyzed['compound']+desc_analyzed['compound'])/2)\n",
        "df[\"Negative\"]=negative\n",
        "df[\"Positive\"]=positive\n",
        "df[\"Neutral\"]=neutral\n",
        "df[\"Aggregate Compound\"]=aggregate_compound\n",
        "pd.set_option('display.max_columns',None)\n",
        "pd.options.mode.chained_assignment = None\n",
        "print(df.head())\n"
      ],
      "metadata": {
        "colab": {
          "base_uri": "https://localhost:8080/"
        },
        "id": "Qlynte4xARcH",
        "outputId": "6308115c-a5c1-499f-cb4c-a9937b5f1e79"
      },
      "execution_count": 13,
      "outputs": [
        {
          "output_type": "stream",
          "name": "stdout",
          "text": [
            "                                               Title          Time  \\\n",
            "0               What Narendra Modi Is Taking From Me    3 days ago   \n",
            "1  PM Modi changes display picture to Tricolour a...  15 hours ago   \n",
            "2  My mother beats me for asking for a pencil: 6-...     1 day ago   \n",
            "3  PM Modi's brother Prahlad Modi stages dharna a...  10 hours ago   \n",
            "4  You're alive because of PM Narendra Modi: Biha...  18 hours ago   \n",
            "\n",
            "                                         Description  \\\n",
            "0  In redeveloping the Indian capital the prime m...   \n",
            "1  PM Narendra Modi put 'tiranga' as the display ...   \n",
            "2  My mother beats me for asking for a pencil: 6-...   \n",
            "3  Prime Minister Narendra Modi's brother Prahlad...   \n",
            "4  Even one of my relatives died in the coronavir...   \n",
            "\n",
            "                                              Source  Negative  Positive  \\\n",
            "0  https://www.theatlantic.com/international/arch...     0.000    0.0000   \n",
            "1  https://www.business-standard.com/article/curr...     0.000    0.0000   \n",
            "2  https://economictimes.indiatimes.com/news/new-...     0.112    0.0000   \n",
            "3  https://indianexpress.com/article/india/pm-bro...     0.000    0.0435   \n",
            "4  https://timesofindia.indiatimes.com/city/patna...     0.143    0.0955   \n",
            "\n",
            "   Neutral  Aggregate Compound  \n",
            "0   1.0000              0.0000  \n",
            "1   1.0000              0.0000  \n",
            "2   0.8880             -0.3818  \n",
            "3   0.9565              0.1591  \n",
            "4   0.7615             -0.0878  \n"
          ]
        }
      ]
    },
    {
      "cell_type": "code",
      "source": [
        "print(df.describe())"
      ],
      "metadata": {
        "colab": {
          "base_uri": "https://localhost:8080/"
        },
        "id": "KCMamCmIAXTI",
        "outputId": "6abee4d5-b87d-4976-c1ad-e2b5d6359702"
      },
      "execution_count": 14,
      "outputs": [
        {
          "output_type": "stream",
          "name": "stdout",
          "text": [
            "         Negative    Positive     Neutral  Aggregate Compound\n",
            "count  144.000000  144.000000  144.000000          144.000000\n",
            "mean     0.026771    0.092281    0.880962            0.151456\n",
            "std      0.056876    0.101893    0.108268            0.301928\n",
            "min      0.000000    0.000000    0.573000           -0.494350\n",
            "25%      0.000000    0.000000    0.817875            0.000000\n",
            "50%      0.000000    0.066250    0.898500            0.081275\n",
            "75%      0.000000    0.145625    1.000000            0.309200\n",
            "max      0.269000    0.427000    1.000000            0.865800\n"
          ]
        }
      ]
    },
    {
      "cell_type": "markdown",
      "source": [
        "Top 5 Positive News"
      ],
      "metadata": {
        "id": "UnSXtk2tA5Kh"
      }
    },
    {
      "cell_type": "code",
      "source": [
        "df2=df.nlargest(5,['Aggregate Compound'])\n",
        "df2[['Title' ,'Description','Time','Aggregate Compound']]"
      ],
      "metadata": {
        "colab": {
          "base_uri": "https://localhost:8080/",
          "height": 201
        },
        "id": "_GTzQtx9AZtF",
        "outputId": "5f01b47f-4a1e-4a41-f473-e8335899a28f"
      },
      "execution_count": 15,
      "outputs": [
        {
          "output_type": "execute_result",
          "data": {
            "text/plain": [
              "                                                Title  \\\n",
              "65  President Droupadi Mumru PM Narendra Modi Cong...   \n",
              "32  Commonwealth Games 2022: PM Narendra Modi 'ela...   \n",
              "98  Athletes will give their best: PM Modi wishes ...   \n",
              "21  PM Modi congratulates Mirabai Chanu says her s...   \n",
              "22  PM Narendra Modi reacts to India`s Lawn Bowls ...   \n",
              "\n",
              "                                          Description         Time  \\\n",
              "65  President Droupadi Mumru PM Narendra Modi Cong...   2 days ago   \n",
              "32  Prime Minister Narendra Modi has congratulated...    1 day ago   \n",
              "98  PM Modi extended his best wishes to the Indian...   4 days ago   \n",
              "21  Prime Minister Narendra Modi on Saturday congr...   3 days ago   \n",
              "22  PM Narendra Modi reacts to India's Lawn Bowls ...  4 hours ago   \n",
              "\n",
              "    Aggregate Compound  \n",
              "65             0.86580  \n",
              "32             0.78265  \n",
              "98             0.77225  \n",
              "21             0.76145  \n",
              "22             0.75790  "
            ],
            "text/html": [
              "\n",
              "  <div id=\"df-dcb7a986-5141-4eea-8377-a1bb068266bf\">\n",
              "    <div class=\"colab-df-container\">\n",
              "      <div>\n",
              "<style scoped>\n",
              "    .dataframe tbody tr th:only-of-type {\n",
              "        vertical-align: middle;\n",
              "    }\n",
              "\n",
              "    .dataframe tbody tr th {\n",
              "        vertical-align: top;\n",
              "    }\n",
              "\n",
              "    .dataframe thead th {\n",
              "        text-align: right;\n",
              "    }\n",
              "</style>\n",
              "<table border=\"1\" class=\"dataframe\">\n",
              "  <thead>\n",
              "    <tr style=\"text-align: right;\">\n",
              "      <th></th>\n",
              "      <th>Title</th>\n",
              "      <th>Description</th>\n",
              "      <th>Time</th>\n",
              "      <th>Aggregate Compound</th>\n",
              "    </tr>\n",
              "  </thead>\n",
              "  <tbody>\n",
              "    <tr>\n",
              "      <th>65</th>\n",
              "      <td>President Droupadi Mumru PM Narendra Modi Cong...</td>\n",
              "      <td>President Droupadi Mumru PM Narendra Modi Cong...</td>\n",
              "      <td>2 days ago</td>\n",
              "      <td>0.86580</td>\n",
              "    </tr>\n",
              "    <tr>\n",
              "      <th>32</th>\n",
              "      <td>Commonwealth Games 2022: PM Narendra Modi 'ela...</td>\n",
              "      <td>Prime Minister Narendra Modi has congratulated...</td>\n",
              "      <td>1 day ago</td>\n",
              "      <td>0.78265</td>\n",
              "    </tr>\n",
              "    <tr>\n",
              "      <th>98</th>\n",
              "      <td>Athletes will give their best: PM Modi wishes ...</td>\n",
              "      <td>PM Modi extended his best wishes to the Indian...</td>\n",
              "      <td>4 days ago</td>\n",
              "      <td>0.77225</td>\n",
              "    </tr>\n",
              "    <tr>\n",
              "      <th>21</th>\n",
              "      <td>PM Modi congratulates Mirabai Chanu says her s...</td>\n",
              "      <td>Prime Minister Narendra Modi on Saturday congr...</td>\n",
              "      <td>3 days ago</td>\n",
              "      <td>0.76145</td>\n",
              "    </tr>\n",
              "    <tr>\n",
              "      <th>22</th>\n",
              "      <td>PM Narendra Modi reacts to India`s Lawn Bowls ...</td>\n",
              "      <td>PM Narendra Modi reacts to India's Lawn Bowls ...</td>\n",
              "      <td>4 hours ago</td>\n",
              "      <td>0.75790</td>\n",
              "    </tr>\n",
              "  </tbody>\n",
              "</table>\n",
              "</div>\n",
              "      <button class=\"colab-df-convert\" onclick=\"convertToInteractive('df-dcb7a986-5141-4eea-8377-a1bb068266bf')\"\n",
              "              title=\"Convert this dataframe to an interactive table.\"\n",
              "              style=\"display:none;\">\n",
              "        \n",
              "  <svg xmlns=\"http://www.w3.org/2000/svg\" height=\"24px\"viewBox=\"0 0 24 24\"\n",
              "       width=\"24px\">\n",
              "    <path d=\"M0 0h24v24H0V0z\" fill=\"none\"/>\n",
              "    <path d=\"M18.56 5.44l.94 2.06.94-2.06 2.06-.94-2.06-.94-.94-2.06-.94 2.06-2.06.94zm-11 1L8.5 8.5l.94-2.06 2.06-.94-2.06-.94L8.5 2.5l-.94 2.06-2.06.94zm10 10l.94 2.06.94-2.06 2.06-.94-2.06-.94-.94-2.06-.94 2.06-2.06.94z\"/><path d=\"M17.41 7.96l-1.37-1.37c-.4-.4-.92-.59-1.43-.59-.52 0-1.04.2-1.43.59L10.3 9.45l-7.72 7.72c-.78.78-.78 2.05 0 2.83L4 21.41c.39.39.9.59 1.41.59.51 0 1.02-.2 1.41-.59l7.78-7.78 2.81-2.81c.8-.78.8-2.07 0-2.86zM5.41 20L4 18.59l7.72-7.72 1.47 1.35L5.41 20z\"/>\n",
              "  </svg>\n",
              "      </button>\n",
              "      \n",
              "  <style>\n",
              "    .colab-df-container {\n",
              "      display:flex;\n",
              "      flex-wrap:wrap;\n",
              "      gap: 12px;\n",
              "    }\n",
              "\n",
              "    .colab-df-convert {\n",
              "      background-color: #E8F0FE;\n",
              "      border: none;\n",
              "      border-radius: 50%;\n",
              "      cursor: pointer;\n",
              "      display: none;\n",
              "      fill: #1967D2;\n",
              "      height: 32px;\n",
              "      padding: 0 0 0 0;\n",
              "      width: 32px;\n",
              "    }\n",
              "\n",
              "    .colab-df-convert:hover {\n",
              "      background-color: #E2EBFA;\n",
              "      box-shadow: 0px 1px 2px rgba(60, 64, 67, 0.3), 0px 1px 3px 1px rgba(60, 64, 67, 0.15);\n",
              "      fill: #174EA6;\n",
              "    }\n",
              "\n",
              "    [theme=dark] .colab-df-convert {\n",
              "      background-color: #3B4455;\n",
              "      fill: #D2E3FC;\n",
              "    }\n",
              "\n",
              "    [theme=dark] .colab-df-convert:hover {\n",
              "      background-color: #434B5C;\n",
              "      box-shadow: 0px 1px 3px 1px rgba(0, 0, 0, 0.15);\n",
              "      filter: drop-shadow(0px 1px 2px rgba(0, 0, 0, 0.3));\n",
              "      fill: #FFFFFF;\n",
              "    }\n",
              "  </style>\n",
              "\n",
              "      <script>\n",
              "        const buttonEl =\n",
              "          document.querySelector('#df-dcb7a986-5141-4eea-8377-a1bb068266bf button.colab-df-convert');\n",
              "        buttonEl.style.display =\n",
              "          google.colab.kernel.accessAllowed ? 'block' : 'none';\n",
              "\n",
              "        async function convertToInteractive(key) {\n",
              "          const element = document.querySelector('#df-dcb7a986-5141-4eea-8377-a1bb068266bf');\n",
              "          const dataTable =\n",
              "            await google.colab.kernel.invokeFunction('convertToInteractive',\n",
              "                                                     [key], {});\n",
              "          if (!dataTable) return;\n",
              "\n",
              "          const docLinkHtml = 'Like what you see? Visit the ' +\n",
              "            '<a target=\"_blank\" href=https://colab.research.google.com/notebooks/data_table.ipynb>data table notebook</a>'\n",
              "            + ' to learn more about interactive tables.';\n",
              "          element.innerHTML = '';\n",
              "          dataTable['output_type'] = 'display_data';\n",
              "          await google.colab.output.renderOutput(dataTable, element);\n",
              "          const docLink = document.createElement('div');\n",
              "          docLink.innerHTML = docLinkHtml;\n",
              "          element.appendChild(docLink);\n",
              "        }\n",
              "      </script>\n",
              "    </div>\n",
              "  </div>\n",
              "  "
            ]
          },
          "metadata": {},
          "execution_count": 15
        }
      ]
    },
    {
      "cell_type": "markdown",
      "source": [
        "Top 5 negative News"
      ],
      "metadata": {
        "id": "Iaknf-5nA2QO"
      }
    },
    {
      "cell_type": "code",
      "source": [
        "df2=df.nsmallest(5,['Aggregate Compound'])\n",
        "df2[['Title' ,'Description','Time','Aggregate Compound']]"
      ],
      "metadata": {
        "colab": {
          "base_uri": "https://localhost:8080/",
          "height": 201
        },
        "id": "8PIyJUZoAcGt",
        "outputId": "ab9216fc-3eaf-4ead-b3fc-65f5703a04b7"
      },
      "execution_count": 16,
      "outputs": [
        {
          "output_type": "execute_result",
          "data": {
            "text/plain": [
              "                                                 Title  \\\n",
              "24   PM Narendra Modi condoles the loss of lives du...   \n",
              "56   PM Modi expresses condolences to families of d...   \n",
              "74   In Narendra Modi era no corrupt will go scot-f...   \n",
              "122  In Modi era no corrupt will go scot-free: Trip...   \n",
              "2    My mother beats me for asking for a pencil: 6-...   \n",
              "\n",
              "                                           Description          Time  \\\n",
              "24   New Delhi : The Prime Minister Narendra Modi h...   7 hours ago   \n",
              "56   New Delhi [India] August 2 (ANI): Prime Minist...  23 hours ago   \n",
              "74   On Prime Minister Narendra Modi's watch no one...    4 days ago   \n",
              "122  On Prime Minister Narendra Modi's watch no one...    4 days ago   \n",
              "2    My mother beats me for asking for a pencil: 6-...     1 day ago   \n",
              "\n",
              "     Aggregate Compound  \n",
              "24             -0.49435  \n",
              "56             -0.44870  \n",
              "74             -0.39185  \n",
              "122            -0.39185  \n",
              "2              -0.38180  "
            ],
            "text/html": [
              "\n",
              "  <div id=\"df-1fe7e675-5dc1-4aed-9b2e-91603ea984da\">\n",
              "    <div class=\"colab-df-container\">\n",
              "      <div>\n",
              "<style scoped>\n",
              "    .dataframe tbody tr th:only-of-type {\n",
              "        vertical-align: middle;\n",
              "    }\n",
              "\n",
              "    .dataframe tbody tr th {\n",
              "        vertical-align: top;\n",
              "    }\n",
              "\n",
              "    .dataframe thead th {\n",
              "        text-align: right;\n",
              "    }\n",
              "</style>\n",
              "<table border=\"1\" class=\"dataframe\">\n",
              "  <thead>\n",
              "    <tr style=\"text-align: right;\">\n",
              "      <th></th>\n",
              "      <th>Title</th>\n",
              "      <th>Description</th>\n",
              "      <th>Time</th>\n",
              "      <th>Aggregate Compound</th>\n",
              "    </tr>\n",
              "  </thead>\n",
              "  <tbody>\n",
              "    <tr>\n",
              "      <th>24</th>\n",
              "      <td>PM Narendra Modi condoles the loss of lives du...</td>\n",
              "      <td>New Delhi : The Prime Minister Narendra Modi h...</td>\n",
              "      <td>7 hours ago</td>\n",
              "      <td>-0.49435</td>\n",
              "    </tr>\n",
              "    <tr>\n",
              "      <th>56</th>\n",
              "      <td>PM Modi expresses condolences to families of d...</td>\n",
              "      <td>New Delhi [India] August 2 (ANI): Prime Minist...</td>\n",
              "      <td>23 hours ago</td>\n",
              "      <td>-0.44870</td>\n",
              "    </tr>\n",
              "    <tr>\n",
              "      <th>74</th>\n",
              "      <td>In Narendra Modi era no corrupt will go scot-f...</td>\n",
              "      <td>On Prime Minister Narendra Modi's watch no one...</td>\n",
              "      <td>4 days ago</td>\n",
              "      <td>-0.39185</td>\n",
              "    </tr>\n",
              "    <tr>\n",
              "      <th>122</th>\n",
              "      <td>In Modi era no corrupt will go scot-free: Trip...</td>\n",
              "      <td>On Prime Minister Narendra Modi's watch no one...</td>\n",
              "      <td>4 days ago</td>\n",
              "      <td>-0.39185</td>\n",
              "    </tr>\n",
              "    <tr>\n",
              "      <th>2</th>\n",
              "      <td>My mother beats me for asking for a pencil: 6-...</td>\n",
              "      <td>My mother beats me for asking for a pencil: 6-...</td>\n",
              "      <td>1 day ago</td>\n",
              "      <td>-0.38180</td>\n",
              "    </tr>\n",
              "  </tbody>\n",
              "</table>\n",
              "</div>\n",
              "      <button class=\"colab-df-convert\" onclick=\"convertToInteractive('df-1fe7e675-5dc1-4aed-9b2e-91603ea984da')\"\n",
              "              title=\"Convert this dataframe to an interactive table.\"\n",
              "              style=\"display:none;\">\n",
              "        \n",
              "  <svg xmlns=\"http://www.w3.org/2000/svg\" height=\"24px\"viewBox=\"0 0 24 24\"\n",
              "       width=\"24px\">\n",
              "    <path d=\"M0 0h24v24H0V0z\" fill=\"none\"/>\n",
              "    <path d=\"M18.56 5.44l.94 2.06.94-2.06 2.06-.94-2.06-.94-.94-2.06-.94 2.06-2.06.94zm-11 1L8.5 8.5l.94-2.06 2.06-.94-2.06-.94L8.5 2.5l-.94 2.06-2.06.94zm10 10l.94 2.06.94-2.06 2.06-.94-2.06-.94-.94-2.06-.94 2.06-2.06.94z\"/><path d=\"M17.41 7.96l-1.37-1.37c-.4-.4-.92-.59-1.43-.59-.52 0-1.04.2-1.43.59L10.3 9.45l-7.72 7.72c-.78.78-.78 2.05 0 2.83L4 21.41c.39.39.9.59 1.41.59.51 0 1.02-.2 1.41-.59l7.78-7.78 2.81-2.81c.8-.78.8-2.07 0-2.86zM5.41 20L4 18.59l7.72-7.72 1.47 1.35L5.41 20z\"/>\n",
              "  </svg>\n",
              "      </button>\n",
              "      \n",
              "  <style>\n",
              "    .colab-df-container {\n",
              "      display:flex;\n",
              "      flex-wrap:wrap;\n",
              "      gap: 12px;\n",
              "    }\n",
              "\n",
              "    .colab-df-convert {\n",
              "      background-color: #E8F0FE;\n",
              "      border: none;\n",
              "      border-radius: 50%;\n",
              "      cursor: pointer;\n",
              "      display: none;\n",
              "      fill: #1967D2;\n",
              "      height: 32px;\n",
              "      padding: 0 0 0 0;\n",
              "      width: 32px;\n",
              "    }\n",
              "\n",
              "    .colab-df-convert:hover {\n",
              "      background-color: #E2EBFA;\n",
              "      box-shadow: 0px 1px 2px rgba(60, 64, 67, 0.3), 0px 1px 3px 1px rgba(60, 64, 67, 0.15);\n",
              "      fill: #174EA6;\n",
              "    }\n",
              "\n",
              "    [theme=dark] .colab-df-convert {\n",
              "      background-color: #3B4455;\n",
              "      fill: #D2E3FC;\n",
              "    }\n",
              "\n",
              "    [theme=dark] .colab-df-convert:hover {\n",
              "      background-color: #434B5C;\n",
              "      box-shadow: 0px 1px 3px 1px rgba(0, 0, 0, 0.15);\n",
              "      filter: drop-shadow(0px 1px 2px rgba(0, 0, 0, 0.3));\n",
              "      fill: #FFFFFF;\n",
              "    }\n",
              "  </style>\n",
              "\n",
              "      <script>\n",
              "        const buttonEl =\n",
              "          document.querySelector('#df-1fe7e675-5dc1-4aed-9b2e-91603ea984da button.colab-df-convert');\n",
              "        buttonEl.style.display =\n",
              "          google.colab.kernel.accessAllowed ? 'block' : 'none';\n",
              "\n",
              "        async function convertToInteractive(key) {\n",
              "          const element = document.querySelector('#df-1fe7e675-5dc1-4aed-9b2e-91603ea984da');\n",
              "          const dataTable =\n",
              "            await google.colab.kernel.invokeFunction('convertToInteractive',\n",
              "                                                     [key], {});\n",
              "          if (!dataTable) return;\n",
              "\n",
              "          const docLinkHtml = 'Like what you see? Visit the ' +\n",
              "            '<a target=\"_blank\" href=https://colab.research.google.com/notebooks/data_table.ipynb>data table notebook</a>'\n",
              "            + ' to learn more about interactive tables.';\n",
              "          element.innerHTML = '';\n",
              "          dataTable['output_type'] = 'display_data';\n",
              "          await google.colab.output.renderOutput(dataTable, element);\n",
              "          const docLink = document.createElement('div');\n",
              "          docLink.innerHTML = docLinkHtml;\n",
              "          element.appendChild(docLink);\n",
              "        }\n",
              "      </script>\n",
              "    </div>\n",
              "  </div>\n",
              "  "
            ]
          },
          "metadata": {},
          "execution_count": 16
        }
      ]
    }
  ]
}